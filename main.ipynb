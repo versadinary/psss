{
 "cells": [
  {
   "cell_type": "code",
   "execution_count": null,
   "id": "6119a9ad-177c-4e86-b580-f11c76cf6e1f",
   "metadata": {},
   "outputs": [],
   "source": [
    "\n"
   ]
  },
  {
   "cell_type": "code",
   "execution_count": null,
   "id": "34f48fcc-0682-48e4-9887-b7ebbb710c8b",
   "metadata": {},
   "outputs": [],
   "source": []
  },
  {
   "cell_type": "code",
   "execution_count": null,
   "id": "6769d1fb-53e2-4a4b-92ba-4f10aef52512",
   "metadata": {},
   "outputs": [],
   "source": []
  },
  {
   "cell_type": "code",
   "execution_count": null,
   "id": "0b598641-f7d3-4b15-84bd-9660737fb73c",
   "metadata": {},
   "outputs": [],
   "source": []
  },
  {
   "cell_type": "code",
   "execution_count": null,
   "id": "6b4efd3d-f12a-4807-8a3f-c457059d15bb",
   "metadata": {},
   "outputs": [],
   "source": []
  },
  {
   "cell_type": "code",
   "execution_count": null,
   "id": "c54417d6-8d95-4f73-9bf4-25e8e7fc98fa",
   "metadata": {},
   "outputs": [],
   "source": []
  },
  {
   "cell_type": "code",
   "execution_count": null,
   "id": "bc896b1f-4777-47b6-9505-a6fdcb0becb4",
   "metadata": {},
   "outputs": [],
   "source": []
  },
  {
   "cell_type": "markdown",
   "id": "6d7e6dbf-83f8-4648-80a1-e0a5d2085c5d",
   "metadata": {},
   "source": [
    "### Лабораторная работа 2\n"
   ]
  },
  {
   "cell_type": "code",
   "execution_count": null,
   "id": "62dfa2d3-385f-4728-8b71-12664bf4d580",
   "metadata": {},
   "outputs": [],
   "source": [
    "d = [-7.88, 13.03, 42.6, 18.23, 8.27, 14.53, 50.86, 15.14, 14.72, 21.58, 7.41, \n",
    "        -8.66, 8.51, 5.02, 12.21, 5.28, 32.09, 4.86, 9.82, 17.74, 1.15, 24.2, \n",
    "        14.87, 9.69, 3.08, 13.3, 10.08, 7.38, 13.83, 22.82, 11.88, 14.24, 9.95, \n",
    "        -5.89, 22.7, 9.98, 12.26, 2.22, 10.78, 1.17, 24.55, 6.54, 15.97, -4.68, 15.98, -5.72, -12.42, -6.43, 10.12, -3.91]\n",
    "\n"
   ]
  },
  {
   "cell_type": "code",
   "execution_count": null,
   "id": "82470890-3d2d-48da-aff4-f92b49c88e91",
   "metadata": {},
   "outputs": [],
   "source": [
    "import numpy as np\n",
    "import scipy.stats as sts\n",
    "import scipy.special as sc\n",
    "import matplotlib.pyplot as plt\n",
    "import statsmodels.api as sm\n",
    "import statsmodels.stats.weightstats\n",
    "import statsmodels.stats.proportion"
   ]
  },
  {
   "cell_type": "code",
   "execution_count": null,
   "id": "826c7a33-09d6-4ac7-a4f7-12635093e179",
   "metadata": {},
   "outputs": [],
   "source": [
    "n = len(d)\n",
    "'доверительный интервал m для смещенной d'\n",
    "print(*statsmodels.stats.weightstats._zconfint_generic(np.mean(d), np.std(d) / np.sqrt(n), alpha=0.05, alternative='two-sided'))"
   ]
  },
  {
   "cell_type": "code",
   "execution_count": null,
   "id": "26455e34-395d-4d61-8471-bfa5ea531b62",
   "metadata": {},
   "outputs": [],
   "source": [
    "'доверительный интервал m для несмещенной d'\n",
    "print(*statsmodels.api.stats.zconfint(d, alpha=0.05, alternative='two-sided'))"
   ]
  },
  {
   "cell_type": "code",
   "execution_count": null,
   "id": "b47d240b-238a-4e80-8544-ab736d7583a7",
   "metadata": {},
   "outputs": [],
   "source": [
    "\"Группированная выборка\"\n",
    "\n",
    "d_g = [(i, d.count(i)) for i in set(d)]\n",
    "\n",
    "\"m негруппированной и группированной выборок\"\n",
    "m_un = sum(d) / n\n",
    "m_g = sum([i * k for i, k in d_g]) / n\n",
    "print(m_un, m_g)\n",
    "\n",
    "\"d негруппированной и группированной выборок\"\n",
    "d_un = sum([i**2 for i in d]) / n - m_un**2\n",
    "d_gr = sum([i**2 * k for i, k in d_g]) / n - m_g**2\n",
    "print(d_un, d_gr)\n",
    "\n",
    "\"несмещенная оценка генеральной дисперсии\"\n",
    "s_un = n / (n - 1) * d_un\n",
    "s_gr = n / (n - 1) * d_gr\n",
    "print(s_un, s_gr)\n",
    "\n",
    "alpha = 1 - 0.95\n",
    "print('доверительный интервал m для смещенной d:')\n",
    "delta_un = 1.96 * np.sqrt(d_un / n)\n",
    "delta_gr = 1.96 * np.sqrt(d_gr / n)\n",
    "print(f'негруппированная выборка \\n{m_un - delta_un} < m < {m_un + delta_un}')\n",
    "print(f'группированная выборка \\n{m_g - delta_gr} < m < {m_g + delta_gr}')\n",
    "print()\n",
    "\n",
    "print('доверительный интервал m для несмещенной d:')\n",
    "delta_un = sts.t.ppf(1 - alpha / 2, n - 1) * np.sqrt(s_un / n)\n",
    "delta_gr = sts.t.ppf(1 - alpha / 2, n - 1) * np.sqrt(s_gr / n)\n",
    "print(f'негруппированная выборка \\n{m_un - delta_un} < m < {m_un + delta_un}')\n",
    "print(f'группированная выборка \\n{m_g - delta_gr} < m < {m_g + delta_gr}')\n",
    "print(sts.t.ppf(1 - alpha / 2, n - 1))"
   ]
  },
  {
   "cell_type": "code",
   "execution_count": null,
   "id": "4b6985b0-4cc0-4f48-a3c2-a3b0f1c70bb9",
   "metadata": {},
   "outputs": [],
   "source": [
    "print('доверительный интервал для оценки генеральной дисперсии')\n",
    "gamma = 0.95\n",
    "delta1 = (n - 1) * s_un / sts.chi2.ppf((1 + gamma) / 2, n - 1)\n",
    "delta2 = (n - 1) * s_un / sts.chi2.ppf((1 - gamma) / 2, n - 1)\n",
    "print(f'негруппированная выборка \\n{delta1} < d < {delta2}\\n')\n",
    "delta1 = (n - 1) * s_gr / sts.chi2.ppf((1 + gamma) / 2, n - 1)\n",
    "delta2 = (n - 1) * s_gr / sts.chi2.ppf((1 - gamma) / 2, n - 1)\n",
    "print(f'группированная выборка \\n{delta1} < d < {delta2}')"
   ]
  },
  {
   "cell_type": "code",
   "execution_count": null,
   "id": "f3e23e46-df07-4dd4-98ee-cb67f6903f5c",
   "metadata": {},
   "outputs": [],
   "source": [
    "\"негруппированная выборка\"\n",
    "h01 = m_un + 0.5 * np.sqrt(s_un)\n",
    "h02 = 2 * s_un\n",
    "print('h_01 =', h01)\n",
    "print('h_02 =', h02)"
   ]
  },
  {
   "cell_type": "code",
   "execution_count": null,
   "id": "04f6ab45-344d-4f40-a129-3aae5f527194",
   "metadata": {},
   "outputs": [],
   "source": [
    "\"группированная выборка\"\n",
    "h01 = m_g + 0.5 * np.sqrt(s_gr)\n",
    "h02 = 2 * s_gr\n",
    "print('h_01 =', h01)\n",
    "print('h_02 =', h02)"
   ]
  },
  {
   "cell_type": "code",
   "execution_count": null,
   "id": "ade38b9c-a72e-4d5f-9cc1-8fc66c15cad9",
   "metadata": {},
   "outputs": [],
   "source": [
    "n = 50\n",
    "R = max(d) - min(d)\n",
    "ii = 7\n",
    "h = R / ii\n",
    "interv = [min(d) + i * h for i in range(ii + 1)]\n",
    "interv = [(interv[i], interv[i + 1]) for i in range(ii)]\n",
    "freq = []\n",
    "for i in interv:\n",
    "    v = 0\n",
    "    for k in d:\n",
    "        if (i[0] <= k < i[1]): v += 1\n",
    "    freq.append(v)\n",
    "\n",
    "x_i = [sum(i) / 2 for i in interv] # берем в качестве вариант середины интервалов\n",
    "xi_ni = [i * k for i, k in zip(x_i, freq)]\n",
    "xi2_ni = [i**2 * k for i, k in zip(x_i, freq)]\n",
    "\n",
    "mean = sum(xi_ni) / n\n",
    "var = sum(xi2_ni) / n - mean**2\n",
    "std = np.sqrt(var)\n",
    "\n",
    "zi = [(i - mean) / std for i in x_i]\n",
    "\n",
    "def gauss(z):\n",
    "    return np.exp(-z**2 / 2) / np.sqrt(2 * np.pi)\n",
    "\n",
    "fz = [gauss(i) for i in zi]\n",
    "\n",
    "ni = [h * n * i / std for i in fz]\n",
    "\n",
    "plt.hist(d, bins=np.linspace(min(d), max(d), 8), alpha=0.7)\n",
    "plt.plot(x_i, ni)\n",
    "plt.grid()"
   ]
  },
  {
   "cell_type": "code",
   "execution_count": null,
   "id": "4ea95432-b549-4975-9b98-da13208afc5f",
   "metadata": {},
   "outputs": [],
   "source": [
    "k = ii - 2 - 1\n",
    "\n",
    "xi2_empiric = sum([(i - k)**2 / k for i, k in zip(freq, ni)])\n",
    "xi2_theor = 64.0011"
   ]
  },
  {
   "cell_type": "code",
   "execution_count": null,
   "id": "5715f2b5-1f8c-4b83-8047-4c620a2cf67c",
   "metadata": {},
   "outputs": [],
   "source": [
    "print(xi2_empiric, xi2_theor)"
   ]
  },
  {
   "cell_type": "code",
   "execution_count": null,
   "id": "675f003b-ecd4-432b-ab05-21be6e415319",
   "metadata": {},
   "outputs": [],
   "source": [
    "xi2_empiric"
   ]
  },
  {
   "cell_type": "code",
   "execution_count": null,
   "id": "0c7e0a9b-c4e7-447d-8334-91b683761c09",
   "metadata": {},
   "outputs": [],
   "source": []
  },
  {
   "cell_type": "markdown",
   "id": "a204d70e-78e2-4c42-ae6f-439a39a70410",
   "metadata": {},
   "source": [
    "### Лабораторная работа 4"
   ]
  },
  {
   "cell_type": "code",
   "execution_count": null,
   "id": "ae298ab7-71c1-4d01-81a4-9187d7e15474",
   "metadata": {},
   "outputs": [],
   "source": [
    "x = [0.62, 0.49, 1.74, 1.98, 1.36, \n",
    "     0.24, 1.17, 2.18, 0.91, 1.93, \n",
    "     1.53, 1.89, 1.51, 1.32, 0.4, \n",
    "     1.12, 0.5, 0.78, 1.7, 1.35, \n",
    "     1.28, 1.0, 0.81, 0.53, 0.51, \n",
    "     0.8, 2.98, 1.75, 0.15, 1.62,\n",
    "     0.76, 0.33, 0.32, 1.12, 0.83, \n",
    "     0.53, 3.35, -0.27, 0.39, 2.06, \n",
    "     1.16, 1.67, 1.52, 0.78, -0.41, \n",
    "     0.59, 1.44, 1.34, 0.67, -0.2]\n"
   ]
  },
  {
   "cell_type": "code",
   "execution_count": null,
   "id": "5c486943-af9d-4aed-a04d-52540ff51647",
   "metadata": {},
   "outputs": [],
   "source": [
    "y = [-3.32, 7.94, -11.4, -6.1, -7.25, 0.62, -10.26, -18.13, 3.96, \n",
    "     -13.8, -3.99, -16.79, -9.78, -15.89, -0.76, -5.1, -12.53, \n",
    "     -1.63, -15.39, -10.45, -2.48, -0.8, -5.0, 1.93, 4.5, 4.02, \n",
    "     -27.58, -25.28, -4.95, -5.83, -3.19, 0.21, 7.12, -4.61, 0.94, \n",
    "     12.94, -27.55, 8.76, 2.08, -19.42, -1.14, -7.67, -7.99, -1.54, \n",
    "     14.21, 9.51, -1.27, -8.17, -1.58, 4.04]\n"
   ]
  },
  {
   "cell_type": "code",
   "execution_count": null,
   "id": "b0da20dd-2b45-42dd-9e67-b4fd6d1fcfe3",
   "metadata": {},
   "outputs": [],
   "source": [
    "rx = max(x) - min(x)\n",
    "ry = max(y) - min(y)\n",
    "plt.scatter(x, y, s=3)\n",
    "plt.xlabel('x')\n",
    "plt.ylabel('y')\n",
    "plt.grid()"
   ]
  },
  {
   "cell_type": "code",
   "execution_count": null,
   "id": "5096c75e-0a58-4421-9b6a-257e181305d8",
   "metadata": {},
   "outputs": [],
   "source": [
    "dx, dy = 0.5, 10\n",
    "inter_x = [min(x)]\n",
    "while (inter_x[-1] <= max(x)):\n",
    "    inter_x.append(float(f'{inter_x[-1] + dx:.2f}'))\n",
    "    \n",
    "inter_y = [min(y)]\n",
    "while (inter_y[-1] <= max(y)):\n",
    "    inter_y.append(float(f'{inter_y[-1] + dy:.2f}'))\n",
    "\n",
    "inter_x = [(inter_x[i], inter_x[i + 1]) for i in range(len(inter_x) - 1)]\n",
    "inter_y = [(inter_y[i], inter_y[i + 1]) for i in range(len(inter_y) - 1)]\n",
    "\n",
    "n = [[0 for _ in range(len(inter_x))] for _ in range(len(inter_y))]\n",
    "\n",
    "for i in range(len(inter_x)):\n",
    "    for k in range(len(inter_y)):\n",
    "        f = 0\n",
    "        for a, b in zip(x, y):\n",
    "            if (inter_x[i][0] <= a < inter_x[i][1] and inter_y[k][0] <= b < inter_y[k][1]): f += 1\n",
    "        n[k][i] = f\n",
    "\n",
    "n_i_ = [sum(i) for i in n]\n",
    "print(n_i_)\n",
    "n_j_ = [sum([n[k][i] for k in range(len(inter_y))]) for i in range(len(inter_x))]\n",
    "print(n_j_)"
   ]
  },
  {
   "cell_type": "code",
   "execution_count": null,
   "id": "559aecd2-67b2-4e0a-af77-47cd2fca83d3",
   "metadata": {},
   "outputs": [],
   "source": [
    "n"
   ]
  },
  {
   "cell_type": "code",
   "execution_count": null,
   "id": "d6627160-0145-4a41-a61c-a10ed194cbcf",
   "metadata": {},
   "outputs": [],
   "source": [
    "'grouped'\n",
    "\n",
    "mid_x = [sum(i) for i in inter_x]\n",
    "mid_y = [sum(i) for i in inter_y]\n",
    "\n",
    "mean_x = sum([i * k for i, k in zip(mid_x, n_i_)]) / len(x)\n",
    "mean_y = sum([i * k for i, k in zip(mid_y, n_j_)]) / len(y)\n",
    "\n",
    "s_x = (sum([i**2 * k for i, k in zip(mid_x, n_i_)]) - len(x) * mean_x**2) / (len(x) - 1)\n",
    "s_y = (sum([i**2 * k for i, k in zip(mid_y, n_j_)]) - len(y) * mean_y**2) / (len(y) - 1)\n",
    "\n",
    "k_xy = 0\n",
    "\n",
    "s = 0\n",
    "for i in range(len(inter_x)):\n",
    "    for k in range(len(inter_y)):\n",
    "        s += (mid_x[i] - mean_x) * (mid_y[k] - mean_y) * n[k][i]"
   ]
  },
  {
   "cell_type": "code",
   "execution_count": null,
   "id": "dfd0f82e-bb69-48f0-881d-e04da9899bdd",
   "metadata": {},
   "outputs": [],
   "source": [
    "k_xy = s / (len(x) - 1)"
   ]
  },
  {
   "cell_type": "code",
   "execution_count": null,
   "id": "fb1e7927-f616-48a5-8f77-7fcf5d45337d",
   "metadata": {},
   "outputs": [],
   "source": [
    "k_xy"
   ]
  },
  {
   "cell_type": "code",
   "execution_count": null,
   "id": "edb114a8-bc47-4d6f-a38b-f6c36964dce4",
   "metadata": {},
   "outputs": [],
   "source": [
    "'ungrouped'\n",
    "\n",
    "umean_x = sum(x) / len(x)\n",
    "umean_y = sum(y) / len(y)\n",
    "\n",
    "us_x = sum([(i - umean_x)**2 for i in x]) / (len(x) - 1)\n",
    "us_y = sum([(i - umean_y)**2 for i in y]) / (len(y) - 1)\n",
    "\n",
    "uk_xy = 0\n",
    "\n",
    "s = 0\n",
    "for i in range(len(x)):\n",
    "    s += (x[i] - umean_x) * (y[i] - umean_y)\n",
    "\n",
    "uk_xy = s / (len(x) - 1)"
   ]
  },
  {
   "cell_type": "code",
   "execution_count": null,
   "id": "139a793f-1736-48b8-914a-28d2c347b8d3",
   "metadata": {},
   "outputs": [],
   "source": [
    "rho_xy = k_xy / np.sqrt(s_x) / np.sqrt(s_y)\n",
    "urho_xy = uk_xy / np.sqrt(us_x) / np.sqrt(us_y)"
   ]
  },
  {
   "cell_type": "code",
   "execution_count": null,
   "id": "d165a012-cfb9-4c2d-874d-d14e03d9ca39",
   "metadata": {},
   "outputs": [],
   "source": [
    "z = (urho_xy * np.sqrt(len(x) - 2)) / (np.sqrt(1 - urho_xy**2))\n",
    "z"
   ]
  },
  {
   "cell_type": "code",
   "execution_count": null,
   "id": "8260dc47-e803-48a6-914b-485d5e5b8d96",
   "metadata": {},
   "outputs": [],
   "source": [
    "alpha = 0.05\n",
    "\n",
    "1 - alpha / 2"
   ]
  },
  {
   "cell_type": "code",
   "execution_count": null,
   "id": "f6a0b47e-55c4-4a5a-9691-1ccab71b4fb8",
   "metadata": {},
   "outputs": [],
   "source": [
    "len(x) - 2"
   ]
  },
  {
   "cell_type": "code",
   "execution_count": null,
   "id": "5f5e9a40-cc08-4d2f-9740-e44f0fb496f2",
   "metadata": {},
   "outputs": [],
   "source": [
    "t = 2.3139 # ==> |z| < t - нет основания отвергать гипотезу"
   ]
  },
  {
   "cell_type": "code",
   "execution_count": null,
   "id": "fc22b8e3-2f51-4297-bcb3-1f8fb6aa946d",
   "metadata": {},
   "outputs": [],
   "source": [
    "'fischer'\n",
    "\n",
    "def arth(x):\n",
    "    return 1 / 2 * np.log((1 + x) / (1 - x))\n",
    "\n",
    "u = (arth(urho_xy) - arth(0)) / (1 / np.sqrt(len(x) - 3))\n",
    "\n",
    "u"
   ]
  },
  {
   "cell_type": "code",
   "execution_count": null,
   "id": "6abb59d4-d2a5-4a78-a847-846b00cecdb9",
   "metadata": {},
   "outputs": [],
   "source": [
    "sts.norm(0, 1).ppf(1 - alpha / 2) # нет оснований отвернать гипотезу"
   ]
  },
  {
   "cell_type": "code",
   "execution_count": null,
   "id": "14f98bf1-1fa1-4194-8812-3a8b4dde12a3",
   "metadata": {},
   "outputs": [],
   "source": [
    "'interval estimation for correlation'\n",
    "\n",
    "a = np.tanh(arth(urho_xy) - sts.norm(0, 1).ppf(1 - alpha / 2) / np.sqrt(len(x) - 3) - urho_xy / 2 / (len(x) - 1))\n",
    "b = np.tanh(arth(urho_xy) + sts.norm(0, 1).ppf(1 - alpha / 2) / np.sqrt(len(x) - 3) - urho_xy / 2 / (len(x) - 1))\n",
    "print(f'{a} < p < {b}')"
   ]
  },
  {
   "cell_type": "code",
   "execution_count": null,
   "id": "7fe4dba5-13e0-4504-93db-c1502bdf1868",
   "metadata": {},
   "outputs": [],
   "source": [
    "'Уравнение линейной регрессии y на x и x на y'\n",
    "\n",
    "print('негруппированные')\n",
    "print(f'y(x) = {umean_y - urho_xy * np.sqrt(us_y / us_x) * umean_x} + ({urho_xy * np.sqrt(us_y / us_x)})x')\n",
    "print(f'x(y) = {umean_x - urho_xy * np.sqrt(us_y / us_x) * umean_y} + ({urho_xy * np.sqrt(us_x / us_y)})y')\n",
    "print()\n",
    "print('группированные')\n",
    "print(f'y(x) = {mean_y - rho_xy * np.sqrt(s_y / s_x) * mean_x} + ({rho_xy * np.sqrt(s_y / s_x)})x')\n",
    "print(f'x(y) = {mean_x - rho_xy * np.sqrt(s_y / s_x) * mean_y} + ({rho_xy * np.sqrt(s_x / s_y)})y')"
   ]
  },
  {
   "cell_type": "code",
   "execution_count": null,
   "id": "5f3018ed-29f6-4a9c-8f51-8dba3e19ca00",
   "metadata": {},
   "outputs": [],
   "source": [
    "def lin_y(x):\n",
    "    return -4.7168 + (-6.305675506400041e-17) * x\n",
    "\n",
    "def lin_x(y):\n",
    "    return 1.0825999999999998 + (-3.9440795774313545e-19) * y\n",
    "    \n",
    "plt.scatter(x, y, s=5)\n",
    "# plt.plot(lin_y(np.linspace(min(x), max(x), 1000)), np.linspace(min(x), max(x), 1000))\n",
    "plt.xlabel('x')\n",
    "plt.ylabel('y')\n",
    "plt.grid()"
   ]
  },
  {
   "cell_type": "code",
   "execution_count": null,
   "id": "e98afb77-ef3d-49fb-823c-a868a512218e",
   "metadata": {},
   "outputs": [],
   "source": []
  }
 ],
 "metadata": {
  "kernelspec": {
   "display_name": "venv1",
   "language": "python",
   "name": "venv1"
  },
  "language_info": {
   "codemirror_mode": {
    "name": "ipython",
    "version": 3
   },
   "file_extension": ".py",
   "mimetype": "text/x-python",
   "name": "python",
   "nbconvert_exporter": "python",
   "pygments_lexer": "ipython3",
   "version": "3.13.3"
  }
 },
 "nbformat": 4,
 "nbformat_minor": 5
}
