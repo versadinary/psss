{
 "cells": [
  {
   "cell_type": "code",
   "execution_count": 2,
   "id": "6119a9ad-177c-4e86-b580-f11c76cf6e1f",
   "metadata": {},
   "outputs": [
    {
     "name": "stdout",
     "output_type": "stream",
     "text": [
      "Вариационный ряд:\n",
      " [-12.42, -8.66, -7.88, -6.43, -5.89, -5.72, -4.68, -3.91, 1.15, 1.17, 2.22, 3.08, 4.86, 5.02, 5.28, 6.54, 7.38, 7.41, 8.27, 8.51, 9.69, 9.82, 9.95, 9.98, 10.08, 10.12, 10.78, 11.88, 12.21, 12.26, 13.03, 13.3, 13.83, 14.24, 14.53, 14.72, 14.87, 15.14, 15.97, 15.98, 17.74, 18.23, 21.58, 22.7, 22.82, 24.2, 24.55, 32.09, 42.6, 50.86]\n"
     ]
    },
    {
     "ename": "NameError",
     "evalue": "name 'dataset' is not defined",
     "output_type": "error",
     "traceback": [
      "\u001b[31m---------------------------------------------------------------------------\u001b[39m",
      "\u001b[31mNameError\u001b[39m                                 Traceback (most recent call last)",
      "\u001b[36mCell\u001b[39m\u001b[36m \u001b[39m\u001b[32mIn[2]\u001b[39m\u001b[32m, line 10\u001b[39m\n\u001b[32m      6\u001b[39m sort = \u001b[38;5;28msorted\u001b[39m(d)\n\u001b[32m      7\u001b[39m \u001b[38;5;28mprint\u001b[39m(\u001b[33m\"\u001b[39m\u001b[33mВариационный ряд:\u001b[39m\u001b[38;5;130;01m\\n\u001b[39;00m\u001b[33m\"\u001b[39m, sort)\n\u001b[32m---> \u001b[39m\u001b[32m10\u001b[39m ran = \u001b[38;5;28mmax\u001b[39m(\u001b[43mdataset\u001b[49m) - \u001b[38;5;28mmin\u001b[39m(dataset)\n\u001b[32m     11\u001b[39m \u001b[38;5;28mprint\u001b[39m(\u001b[33m\"\u001b[39m\u001b[33mРазмах выборки: max - min =\u001b[39m\u001b[33m\"\u001b[39m, ran)\n\u001b[32m     12\u001b[39m \u001b[38;5;28mprint\u001b[39m(\u001b[33m'\u001b[39m\u001b[33mСтатистический ряд\u001b[39m\u001b[33m'\u001b[39m)\n",
      "\u001b[31mNameError\u001b[39m: name 'dataset' is not defined"
     ]
    }
   ],
   "source": [
    "d = [-7.88, 13.03, 42.6, 18.23, 8.27, 14.53, 50.86, 15.14, 14.72, 21.58, 7.41, \n",
    "        -8.66, 8.51, 5.02, 12.21, 5.28, 32.09, 4.86, 9.82, 17.74, 1.15, 24.2, \n",
    "        14.87, 9.69, 3.08, 13.3, 10.08, 7.38, 13.83, 22.82, 11.88, 14.24, 9.95, \n",
    "        -5.89, 22.7, 9.98, 12.26, 2.22, 10.78, 1.17, 24.55, 6.54, 15.97, -4.68, 15.98, -5.72, -12.42, -6.43, 10.12, -3.91]\n",
    "\n",
    "sort = sorted(d)\n",
    "print(\"Вариационный ряд:\\n\", sort)\n",
    "\n",
    "\n",
    "ran = max(dataset) - min(dataset)\n",
    "print(\"Размах выборки: max - min =\", ran)\n",
    "print('Статистический ряд')\n",
    "print([dataset.count(i) / len(dataset) for i in list(set(dataset))])\n"
   ]
  },
  {
   "cell_type": "code",
   "execution_count": 19,
   "id": "34f48fcc-0682-48e4-9887-b7ebbb710c8b",
   "metadata": {},
   "outputs": [
    {
     "name": "stdout",
     "output_type": "stream",
     "text": [
      "Интервал 1: [-12.42; -3.38)     Частота: 8\n",
      "Интервал 2: [-3.38; 5.66)     Частота: 7\n",
      "Интервал 3: [5.66; 14.70)     Частота: 20\n",
      "Интервал 4: [14.70; 23.74)     Частота: 10\n",
      "Интервал 5: [23.74; 32.78)     Частота: 3\n",
      "Интервал 6: [32.78; 41.82)     Частота: 0\n",
      "Интервал 7: [41.82; 50.86)     Частота: 2\n"
     ]
    }
   ],
   "source": [
    "import numpy as np\n",
    "\n",
    "i = 7 \n",
    "minimum = min(dataset)\n",
    "maximum = max(dataset)\n",
    "r = maximum - minimum\n",
    "h = r / i\n",
    "\n",
    "\n",
    "b = [minimum + k * h for k in range(i + 1)]\n",
    "freq, _ = np.histogram(dataset, bins=b)\n",
    "\n",
    "\n",
    "for k in range(i):\n",
    "    print(f\"Интервал {k + 1}: [{b[k]:0.2f}; {b[k + 1]:0.2f})     Частота: {freq[k]}\")\n",
    "\n"
   ]
  },
  {
   "cell_type": "code",
   "execution_count": 20,
   "id": "6769d1fb-53e2-4a4b-92ba-4f10aef52512",
   "metadata": {},
   "outputs": [
    {
     "name": "stdout",
     "output_type": "stream",
     "text": [
      "9.040000000000001\n",
      "[-12.42, -3.379999999999999, 5.660000000000002, 14.700000000000005, 23.740000000000002, 32.78, 41.82000000000001, 50.86000000000001]\n"
     ]
    }
   ],
   "source": [
    "print(h)\n",
    "print(b)"
   ]
  },
  {
   "cell_type": "code",
   "execution_count": 21,
   "id": "0b598641-f7d3-4b15-84bd-9660737fb73c",
   "metadata": {},
   "outputs": [
    {
     "name": "stdout",
     "output_type": "stream",
     "text": [
      "Интервал [-12.42; -3.38), число попаданий: 8\n",
      "Интервал [-3.38;  5.66), число попаданий: 7\n",
      "Интервал [ 5.66;  14.70), число попаданий: 20\n",
      "Интервал [ 14.70;  23.74), число попаданий: 10\n",
      "Интервал [ 23.74;  32.78), число попаданий: 3\n",
      "Интервал [ 32.78;  41.82), число попаданий: 0\n",
      "Интервал [ 41.82;  50.86), число попаданий: 2\n"
     ]
    }
   ],
   "source": [
    "for i in range(1, len(b)):\n",
    "    count = 0\n",
    "    for k in dataset:\n",
    "        if (b[i - 1] <= k < b[i]): count += 1\n",
    "    print(f'Интервал [{b[i - 1] : 0.2f}; {b[i] : 0.2f}), число попаданий: {count}')\n"
   ]
  },
  {
   "cell_type": "code",
   "execution_count": 103,
   "id": "6b4efd3d-f12a-4807-8a3f-c457059d15bb",
   "metadata": {},
   "outputs": [
    {
     "ename": "NameError",
     "evalue": "name 'dataset' is not defined",
     "output_type": "error",
     "traceback": [
      "\u001b[31m---------------------------------------------------------------------------\u001b[39m",
      "\u001b[31mNameError\u001b[39m                                 Traceback (most recent call last)",
      "\u001b[36mCell\u001b[39m\u001b[36m \u001b[39m\u001b[32mIn[103]\u001b[39m\u001b[32m, line 5\u001b[39m\n\u001b[32m      2\u001b[39m \u001b[38;5;28;01mimport\u001b[39;00m\u001b[38;5;250m \u001b[39m\u001b[34;01mpandas\u001b[39;00m\u001b[38;5;250m \u001b[39m\u001b[38;5;28;01mas\u001b[39;00m\u001b[38;5;250m \u001b[39m\u001b[34;01mpd\u001b[39;00m\n\u001b[32m      3\u001b[39m \u001b[38;5;28;01mimport\u001b[39;00m\u001b[38;5;250m \u001b[39m\u001b[34;01mmatplotlib\u001b[39;00m\u001b[34;01m.\u001b[39;00m\u001b[34;01mpyplot\u001b[39;00m\u001b[38;5;250m \u001b[39m\u001b[38;5;28;01mas\u001b[39;00m\u001b[38;5;250m \u001b[39m\u001b[34;01mplt\u001b[39;00m\n\u001b[32m----> \u001b[39m\u001b[32m5\u001b[39m data = np.array(\u001b[43mdataset\u001b[49m)\n\u001b[32m      7\u001b[39m intervals = \u001b[32m7\u001b[39m\n\u001b[32m      8\u001b[39m intervals = np.linspace(data.min(), data.max(), intervals + \u001b[32m1\u001b[39m)\n",
      "\u001b[31mNameError\u001b[39m: name 'dataset' is not defined"
     ]
    }
   ],
   "source": [
    "import numpy as np\n",
    "import pandas as pd\n",
    "import matplotlib.pyplot as plt\n",
    "\n",
    "data = np.array(dataset)\n",
    "\n",
    "intervals = 7\n",
    "intervals = np.linspace(data.min(), data.max(), intervals + 1)\n",
    "\n",
    "\n",
    "plt.hist(data, bins=intervals, alpha=0.7)\n",
    "\n",
    "\n",
    "midpoint_list = [(intervals[i] + intervals[i + 1]) / 2 for i in range(len(intervals) - 1)]\n",
    "\n",
    "\n",
    "freq, _ = np.histogram(data, bins=intervals)\n",
    "\n",
    "\n",
    "plt.plot(midpoint_list, freq, 'o-')\n",
    "\n",
    "plt.show()\n",
    "\n",
    "datasort = np.sort(data)\n",
    "n = len(datasort)\n",
    "F = np.arange(1, n + 1) / n\n",
    "\n",
    "plt.figure(figsize=(8, 5))\n",
    "plt.step(datasort, F, where=\"post\", color='orange')\n",
    "plt.xlabel(\"x\")\n",
    "plt.ylabel(\"F(x)\")\n",
    "plt.grid()\n",
    "plt.show()\n"
   ]
  },
  {
   "cell_type": "code",
   "execution_count": 23,
   "id": "c54417d6-8d95-4f73-9bf4-25e8e7fc98fa",
   "metadata": {},
   "outputs": [
    {
     "name": "stdout",
     "output_type": "stream",
     "text": [
      "Математическое ожидание: 10.360800000000001\n",
      "Дисперсия: 155.07090546938778\n",
      "Медиана: 10.180000000000003\n",
      "Мода: 10.769565217391307\n"
     ]
    }
   ],
   "source": [
    "freq1 = freq.tolist()\n",
    "\n",
    "intervals = [float(i) for i in intervals]\n",
    "intervals = [(float(intervals[i]), float(intervals[i + 1])) for i in range(len(intervals) - 1)]\n",
    "\n",
    "\n",
    "# Середины интервалов\n",
    "midpoints = [(a + b) / 2 for a, b in intervals]\n",
    "n = sum(freq)\n",
    "\n",
    "# Выборочное среднее\n",
    "x_mean = sum([freq1[i] * midpoints[i] for i in range(len(freq1))]) / n\n",
    "\n",
    "# Математическое ожидание\n",
    "mean_val = sum(f * x for f, x in zip(freq1, midpoints)) / n\n",
    "\n",
    "# Дисперсия\n",
    "variance_val = sum(f * (x - mean_val)**2 for f, x in zip(freq1, midpoints)) / (n - 1)\n",
    "\n",
    "# Медиана\n",
    "summ = [sum(freq1[:i+1]) for i in range(len(freq1))]\n",
    "half_n = n / 2\n",
    "median_index = 0\n",
    "\n",
    "for i in range(len(summ)):\n",
    "    if (summ[i] >= half_n):\n",
    "        median_index = i\n",
    "        break\n",
    "\n",
    "L = intervals[median_index][0]\n",
    "F = summ[median_index - 1] if median_index > 0 else 0\n",
    "f_med = freq1[median_index]\n",
    "h = intervals[median_index][1] - intervals[median_index][0]\n",
    "median_val = L + ((half_n - F) / f_med) * h\n",
    "\n",
    "# Мода\n",
    "modal_index = freq1.index(max(freq))\n",
    "L_mod = intervals[modal_index][0]\n",
    "f_mod = freq1[modal_index]\n",
    "f_prev = freq1[modal_index - 1] if modal_index > 0 else 0\n",
    "f_next = freq1[modal_index + 1] if modal_index < len(freq1) - 1 else 0\n",
    "mode_val = L_mod + (f_mod - f_prev) / (2 * f_mod - f_prev - f_next) * h\n",
    "\n",
    "print(f\"Математическое ожидание: {mean_val}\")\n",
    "print(f\"Дисперсия: {variance_val}\")\n",
    "print(f\"Медиана: {median_val}\")\n",
    "print(f\"Мода: {mode_val}\")"
   ]
  },
  {
   "cell_type": "code",
   "execution_count": 24,
   "id": "bc896b1f-4777-47b6-9505-a6fdcb0becb4",
   "metadata": {},
   "outputs": [
    {
     "data": {
      "text/plain": [
       "np.float64(31.09216000000002)"
      ]
     },
     "execution_count": 24,
     "metadata": {},
     "output_type": "execute_result"
    }
   ],
   "source": [
    "sum([midpoints[i]**2 * freq1[i] - n * x_mean]) / n"
   ]
  },
  {
   "cell_type": "markdown",
   "id": "6d7e6dbf-83f8-4648-80a1-e0a5d2085c5d",
   "metadata": {},
   "source": [
    "### Лабораторная работа 2\n"
   ]
  },
  {
   "cell_type": "code",
   "execution_count": 92,
   "id": "62dfa2d3-385f-4728-8b71-12664bf4d580",
   "metadata": {},
   "outputs": [],
   "source": [
    "d = [-7.88, 13.03, 42.6, 18.23, 8.27, 14.53, 50.86, 15.14, 14.72, 21.58, 7.41, \n",
    "        -8.66, 8.51, 5.02, 12.21, 5.28, 32.09, 4.86, 9.82, 17.74, 1.15, 24.2, \n",
    "        14.87, 9.69, 3.08, 13.3, 10.08, 7.38, 13.83, 22.82, 11.88, 14.24, 9.95, \n",
    "        -5.89, 22.7, 9.98, 12.26, 2.22, 10.78, 1.17, 24.55, 6.54, 15.97, -4.68, 15.98, -5.72, -12.42, -6.43, 10.12, -3.91]\n",
    "\n"
   ]
  },
  {
   "cell_type": "code",
   "execution_count": 93,
   "id": "82470890-3d2d-48da-aff4-f92b49c88e91",
   "metadata": {},
   "outputs": [],
   "source": [
    "import numpy as np\n",
    "import scipy.stats as sts\n",
    "import scipy.special as sc\n",
    "import matplotlib.pyplot as plt\n",
    "import statsmodels.api as sm\n",
    "import statsmodels.stats.weightstats\n",
    "import statsmodels.stats.proportion"
   ]
  },
  {
   "cell_type": "code",
   "execution_count": 94,
   "id": "826c7a33-09d6-4ac7-a4f7-12635093e179",
   "metadata": {},
   "outputs": [
    {
     "name": "stdout",
     "output_type": "stream",
     "text": [
      "7.387370405836656 14.014629594163342\n"
     ]
    }
   ],
   "source": [
    "n = len(d)\n",
    "'доверительный интервал m для смещенной d'\n",
    "print(*statsmodels.stats.weightstats._zconfint_generic(np.mean(d), np.std(d) / np.sqrt(n), alpha=0.05, alternative='two-sided'))"
   ]
  },
  {
   "cell_type": "code",
   "execution_count": 95,
   "id": "26455e34-395d-4d61-8471-bfa5ea531b62",
   "metadata": {},
   "outputs": [
    {
     "name": "stdout",
     "output_type": "stream",
     "text": [
      "7.353728633752389 14.048271366247608\n"
     ]
    }
   ],
   "source": [
    "'доверительный интервал m для несмещенной d'\n",
    "print(*statsmodels.api.stats.zconfint(d, alpha=0.05, alternative='two-sided'))"
   ]
  },
  {
   "cell_type": "code",
   "execution_count": 96,
   "id": "b47d240b-238a-4e80-8544-ab736d7583a7",
   "metadata": {},
   "outputs": [
    {
     "name": "stdout",
     "output_type": "stream",
     "text": [
      "10.700999999999999 10.700999999999999\n",
      "142.91629300000005 142.91629300000005\n",
      "145.8329520408164 145.8329520408164\n",
      "доверительный интервал m для смещенной d:\n",
      "негруппированная выборка \n",
      "7.3873095159963995 < m < 14.014690484003598\n",
      "группированная выборка \n",
      "7.3873095159963995 < m < 14.014690484003598\n",
      "\n",
      "доверительный интервал m для несмещенной d:\n",
      "негруппированная выборка \n",
      "7.269001400729058 < m < 14.13299859927094\n",
      "группированная выборка \n",
      "7.269001400729058 < m < 14.13299859927094\n",
      "2.0095752371292397\n"
     ]
    }
   ],
   "source": [
    "\"Группированная выборка\"\n",
    "\n",
    "d_g = [(i, d.count(i)) for i in set(d)]\n",
    "\n",
    "\"m негруппированной и группированной выборок\"\n",
    "m_un = sum(d) / n\n",
    "m_g = sum([i * k for i, k in d_g]) / n\n",
    "print(m_un, m_g)\n",
    "\n",
    "\"d негруппированной и группированной выборок\"\n",
    "d_un = sum([i**2 for i in d]) / n - m_un**2\n",
    "d_gr = sum([i**2 * k for i, k in d_g]) / n - m_g**2\n",
    "print(d_un, d_gr)\n",
    "\n",
    "\"несмещенная оценка генеральной дисперсии\"\n",
    "s_un = n / (n - 1) * d_un\n",
    "s_gr = n / (n - 1) * d_gr\n",
    "print(s_un, s_gr)\n",
    "\n",
    "alpha = 1 - 0.95\n",
    "print('доверительный интервал m для смещенной d:')\n",
    "delta_un = 1.96 * np.sqrt(d_un / n)\n",
    "delta_gr = 1.96 * np.sqrt(d_gr / n)\n",
    "print(f'негруппированная выборка \\n{m_un - delta_un} < m < {m_un + delta_un}')\n",
    "print(f'группированная выборка \\n{m_g - delta_gr} < m < {m_g + delta_gr}')\n",
    "print()\n",
    "\n",
    "print('доверительный интервал m для несмещенной d:')\n",
    "delta_un = sts.t.ppf(1 - alpha / 2, n - 1) * np.sqrt(s_un / n)\n",
    "delta_gr = sts.t.ppf(1 - alpha / 2, n - 1) * np.sqrt(s_gr / n)\n",
    "print(f'негруппированная выборка \\n{m_un - delta_un} < m < {m_un + delta_un}')\n",
    "print(f'группированная выборка \\n{m_g - delta_gr} < m < {m_g + delta_gr}')\n",
    "print(sts.t.ppf(1 - alpha / 2, n - 1))"
   ]
  },
  {
   "cell_type": "code",
   "execution_count": 97,
   "id": "4b6985b0-4cc0-4f48-a3c2-a3b0f1c70bb9",
   "metadata": {},
   "outputs": [
    {
     "name": "stdout",
     "output_type": "stream",
     "text": [
      "доверительный интервал для оценки генеральной дисперсии\n",
      "негруппированная выборка \n",
      "101.75974147114218 < d < 226.4564591211728\n",
      "\n",
      "группированная выборка \n",
      "101.75974147114218 < d < 226.4564591211728\n"
     ]
    }
   ],
   "source": [
    "print('доверительный интервал для оценки генеральной дисперсии')\n",
    "gamma = 0.95\n",
    "delta1 = (n - 1) * s_un / sts.chi2.ppf((1 + gamma) / 2, n - 1)\n",
    "delta2 = (n - 1) * s_un / sts.chi2.ppf((1 - gamma) / 2, n - 1)\n",
    "print(f'негруппированная выборка \\n{delta1} < d < {delta2}\\n')\n",
    "delta1 = (n - 1) * s_gr / sts.chi2.ppf((1 + gamma) / 2, n - 1)\n",
    "delta2 = (n - 1) * s_gr / sts.chi2.ppf((1 - gamma) / 2, n - 1)\n",
    "print(f'группированная выборка \\n{delta1} < d < {delta2}')"
   ]
  },
  {
   "cell_type": "code",
   "execution_count": 98,
   "id": "f3e23e46-df07-4dd4-98ee-cb67f6903f5c",
   "metadata": {},
   "outputs": [
    {
     "name": "stdout",
     "output_type": "stream",
     "text": [
      "h_01 = 16.73906575073542\n",
      "h_02 = 291.6659040816328\n"
     ]
    }
   ],
   "source": [
    "\"негруппированная выборка\"\n",
    "h01 = m_un + 0.5 * np.sqrt(s_un)\n",
    "h02 = 2 * s_un\n",
    "print('h_01 =', h01)\n",
    "print('h_02 =', h02)"
   ]
  },
  {
   "cell_type": "code",
   "execution_count": 99,
   "id": "04f6ab45-344d-4f40-a129-3aae5f527194",
   "metadata": {},
   "outputs": [
    {
     "name": "stdout",
     "output_type": "stream",
     "text": [
      "h_01 = 16.73906575073542\n",
      "h_02 = 291.6659040816328\n"
     ]
    }
   ],
   "source": [
    "\"группированная выборка\"\n",
    "h01 = m_g + 0.5 * np.sqrt(s_gr)\n",
    "h02 = 2 * s_gr\n",
    "print('h_01 =', h01)\n",
    "print('h_02 =', h02)"
   ]
  },
  {
   "cell_type": "code",
   "execution_count": 122,
   "id": "ade38b9c-a72e-4d5f-9cc1-8fc66c15cad9",
   "metadata": {},
   "outputs": [
    {
     "data": {
      "image/png": "[encoded data removed]",
      "text/plain": [
       "<Figure size 640x480 with 1 Axes>"
      ]
     },
     "metadata": {},
     "output_type": "display_data"
    }
   ],
   "source": [
    "n = 50\n",
    "R = max(d) - min(d)\n",
    "ii = 7\n",
    "h = R / ii\n",
    "interv = [min(d) + i * h for i in range(ii + 1)]\n",
    "interv = [(interv[i], interv[i + 1]) for i in range(ii)]\n",
    "freq = []\n",
    "for i in interv:\n",
    "    v = 0\n",
    "    for k in d:\n",
    "        if (i[0] <= k < i[1]): v += 1\n",
    "    freq.append(v)\n",
    "\n",
    "x_i = [sum(i) / 2 for i in interv] # берем в качестве вариант середины интервалов\n",
    "xi_ni = [i * k for i, k in zip(x_i, freq)]\n",
    "xi2_ni = [i**2 * k for i, k in zip(x_i, freq)]\n",
    "\n",
    "mean = sum(xi_ni) / n\n",
    "var = sum(xi2_ni) / n - mean**2\n",
    "std = np.sqrt(var)\n",
    "\n",
    "zi = [(i - mean) / std for i in x_i]\n",
    "\n",
    "def gauss(z):\n",
    "    return np.exp(-z**2 / 2) / np.sqrt(2 * np.pi)\n",
    "\n",
    "fz = [gauss(i) for i in zi]\n",
    "\n",
    "ni = [h * n * i / std for i in fz]\n",
    "\n",
    "plt.hist(d, bins=np.linspace(min(d), max(d), 8), alpha=0.7)\n",
    "plt.plot(x_i, ni)\n",
    "plt.grid()"
   ]
  },
  {
   "cell_type": "code",
   "execution_count": 126,
   "id": "4ea95432-b549-4975-9b98-da13208afc5f",
   "metadata": {},
   "outputs": [],
   "source": [
    "k = n - 2 - 1\n",
    "\n",
    "xi2_empiric = sum([(i - k)**2 / k for i, k in zip(freq, ni)])\n",
    "xi2_theor = 64.0011"
   ]
  },
  {
   "cell_type": "code",
   "execution_count": 127,
   "id": "5715f2b5-1f8c-4b83-8047-4c620a2cf67c",
   "metadata": {},
   "outputs": [
    {
     "name": "stdout",
     "output_type": "stream",
     "text": [
      "23.36186272864378 64.0011\n"
     ]
    }
   ],
   "source": [
    "print(xi2_empiric, xi2_theor)"
   ]
  },
  {
   "cell_type": "code",
   "execution_count": null,
   "id": "675f003b-ecd4-432b-ab05-21be6e415319",
   "metadata": {},
   "outputs": [],
   "source": []
  }
 ],
 "metadata": {
  "kernelspec": {
   "display_name": "venv1",
   "language": "python",
   "name": "venv1"
  },
  "language_info": {
   "codemirror_mode": {
    "name": "ipython",
    "version": 3
   },
   "file_extension": ".py",
   "mimetype": "text/x-python",
   "name": "python",
   "nbconvert_exporter": "python",
   "pygments_lexer": "ipython3",
   "version": "3.13.3"
  }
 },
 "nbformat": 4,
 "nbformat_minor": 5
}
